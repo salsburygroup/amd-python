{
 "cells": [
  {
   "cell_type": "code",
   "execution_count": 9,
   "metadata": {
    "collapsed": false
   },
   "outputs": [
    {
     "ename": "SyntaxError",
     "evalue": "invalid syntax (mdamath.py, line 161)",
     "output_type": "error",
     "traceback": [
      "\u001b[0;36m  File \u001b[0;32m\"/Users/melvrl13/anaconda/envs/python3/lib/python3.4/site-packages/MDAnalysis/lib/mdamath.py\"\u001b[0;36m, line \u001b[0;32m161\u001b[0m\n\u001b[0;31m    A, B, C = [norm(v) for v in x, y, z]\u001b[0m\n\u001b[0m                                 ^\u001b[0m\n\u001b[0;31mSyntaxError\u001b[0m\u001b[0;31m:\u001b[0m invalid syntax\n"
     ]
    }
   ],
   "source": [
    "import warnings\n",
    "warnings.filterwarnings('ignore')\n",
    "import numpy as np\n",
    "import MDAnalysis as md\n",
    "import pyemma\n",
    "from clustering import Clustering\n",
    "import sklearn\n",
    "import pandas as pd\n",
    "import rpy2\n",
    "from rpy2.robjects.packages import importr\n",
    "import rpy2.robjects as ro\n",
    "import rpy2.robjects.numpy2ri\n",
    "rpy2.robjects.numpy2ri.activate()\n",
    "import pandas.rpy.common as com\n",
    "import matplotlib.pyplot as plt\n",
    "from itertools import cycle\n",
    "%matplotlib inline"
   ]
  },
  {
   "cell_type": "code",
   "execution_count": 5,
   "metadata": {
    "collapsed": true
   },
   "outputs": [],
   "source": [
    "topology = '/Volumes/RyanMdata/FUMP10/hairpin.pdb'\n",
    "trajectory = '/Volumes/RyanMdata/FUMP10/Folding/weightedSims3200/weighted3200.dcd'"
   ]
  },
  {
   "cell_type": "code",
   "execution_count": 61,
   "metadata": {
    "collapsed": false
   },
   "outputs": [],
   "source": [
    "X = pyemma.coordinates.load([trajectory],top=topology)\n",
    "#Brackets because you could provide a list of trajectories"
   ]
  },
  {
   "cell_type": "code",
   "execution_count": 44,
   "metadata": {
    "collapsed": false
   },
   "outputs": [
    {
     "name": "stdout",
     "output_type": "stream",
     "text": [
      "silhouette score: 0.181008552653\n",
      "Number of clusters: 41\n"
     ]
    }
   ],
   "source": [
    "#iKmeans -- basically does Kmeans 20 times\n",
    "cl=Clustering()\n",
    "data = cl.my_math.standardize(X)\n",
    "[u, centroids, ite, dist_tmp, init_centroids] = cl.ik_means(data)\n",
    "print('silhouette score: ' + str(sklearn.metrics.silhouette_score(data,u)))\n",
    "print('Number of clusters: ' + str(max(u)))"
   ]
  },
  {
   "cell_type": "code",
   "execution_count": 43,
   "metadata": {
    "collapsed": false
   },
   "outputs": [
    {
     "name": "stdout",
     "output_type": "stream",
     "text": [
      "silhouette score: 0.120655\n",
      "Number of clusters: 27\n"
     ]
    }
   ],
   "source": [
    "#imwk_means -- ikmeans with a special weighting metric\n",
    "[u, centroids, weights, ite, dist_tmp] = cl.imwk_means(data,2)\n",
    "sklearn.metrics.silhouette_score(data,u)\n",
    "print('silhouette score: ' + str(sklearn.metrics.silhouette_score(data,u)))\n",
    "print('Number of clusters: ' + str(max(u)))"
   ]
  },
  {
   "cell_type": "code",
   "execution_count": 3,
   "metadata": {
    "collapsed": false
   },
   "outputs": [],
   "source": [
    "#Meanshift -- tries to discover blobs \n",
    "#bandwidth = estimate_bandwidth(X)\n",
    "#ms = MeanShift(bandwidth=bandwidth, bin_seeding=False)\n",
    "#ms.fit(X)\n",
    "#labels = ms.labels_\n",
    "#sklearn.metrics.silhouette_score(X,labels)"
   ]
  },
  {
   "cell_type": "code",
   "execution_count": 4,
   "metadata": {
    "collapsed": false
   },
   "outputs": [],
   "source": [
    "#DBscan\n",
    "#data = StandardScaler().fit_transform(X)\n",
    "#db = DBSCAN().fit(X)\n",
    "#labels = db.labels_\n",
    "#sklearn.metrics.silhouette_score(data,labels)"
   ]
  },
  {
   "cell_type": "code",
   "execution_count": 8,
   "metadata": {
    "collapsed": false
   },
   "outputs": [
    {
     "ename": "NameError",
     "evalue": "name 'md' is not defined",
     "output_type": "error",
     "traceback": [
      "\u001b[0;31m---------------------------------------------------------------------------\u001b[0m",
      "\u001b[0;31mNameError\u001b[0m                                 Traceback (most recent call last)",
      "\u001b[0;32m<ipython-input-8-456a2b722531>\u001b[0m in \u001b[0;36m<module>\u001b[0;34m()\u001b[0m\n\u001b[1;32m      1\u001b[0m \u001b[0;31m# Make a distance matrix for use in R\u001b[0m\u001b[0;34m\u001b[0m\u001b[0;34m\u001b[0m\u001b[0m\n\u001b[0;32m----> 2\u001b[0;31m \u001b[0mu\u001b[0m \u001b[0;34m=\u001b[0m \u001b[0mmd\u001b[0m\u001b[0;34m.\u001b[0m\u001b[0mUniverse\u001b[0m\u001b[0;34m(\u001b[0m\u001b[0mtopology\u001b[0m\u001b[0;34m,\u001b[0m\u001b[0mtrajectory\u001b[0m\u001b[0;34m)\u001b[0m\u001b[0;34m\u001b[0m\u001b[0m\n\u001b[0m\u001b[1;32m      3\u001b[0m \u001b[0mnumframes\u001b[0m \u001b[0;34m=\u001b[0m \u001b[0mlen\u001b[0m\u001b[0;34m(\u001b[0m\u001b[0mu\u001b[0m\u001b[0;34m.\u001b[0m\u001b[0mtrajectory\u001b[0m\u001b[0;34m)\u001b[0m\u001b[0;34m\u001b[0m\u001b[0m\n\u001b[1;32m      4\u001b[0m \u001b[0;32mfor\u001b[0m \u001b[0mi\u001b[0m \u001b[0;32min\u001b[0m \u001b[0mxrange\u001b[0m\u001b[0;34m(\u001b[0m\u001b[0mnumframes\u001b[0m\u001b[0;34m)\u001b[0m\u001b[0;34m:\u001b[0m\u001b[0;34m\u001b[0m\u001b[0m\n\u001b[1;32m      5\u001b[0m     \u001b[0;32mfor\u001b[0m \u001b[0mj\u001b[0m \u001b[0;32min\u001b[0m \u001b[0mxrange\u001b[0m\u001b[0;34m(\u001b[0m\u001b[0mi\u001b[0m\u001b[0;34m-\u001b[0m\u001b[0;36m1\u001b[0m\u001b[0;34m)\u001b[0m\u001b[0;34m:\u001b[0m\u001b[0;34m\u001b[0m\u001b[0m\n",
      "\u001b[0;31mNameError\u001b[0m: name 'md' is not defined"
     ]
    }
   ],
   "source": [
    "# Make a distance matrix for use in R\n",
    "u = md.Universe(topology,trajectory)\n",
    "numframes = len(u.trajectory)\n",
    "for i in xrange(numframes):\n",
    "    for j in xrange(i-1):\n",
    "        d[i,j] = MDAnalysis.analysis.rms.rmsd( sel.coordinates(u.trajectory[i]), sel.coordinates(u.trajectory[j]), center=True)\n",
    "        d[j,i] = d[i,j]"
   ]
  },
  {
   "cell_type": "code",
   "execution_count": 83,
   "metadata": {
    "collapsed": false
   },
   "outputs": [
    {
     "data": {
      "text/plain": [
       "-0.036961824"
      ]
     },
     "execution_count": 83,
     "metadata": {},
     "output_type": "execute_result"
    }
   ],
   "source": [
    "#QT from R\n",
    "nr,nc = X.shape\n",
    "Xr = ro.r.matrix(X, nrow=nr, ncol=nc)\n",
    "ro.r.assign(\"X\", Xr)\n",
    "ro.r('library(flexclust)')\n",
    "#ro.r('x <- matrix(10*runif(1000), ncol=2)')\n",
    "ro.r('cl1 <- qtclust(X, radius=5)')\n",
    "labels = np.array(ro.r('data.frame(cl=attributes(cl1)$cluster)'))\n",
    "u = [x[0] for x in labels]\n",
    "u = np.array(u)\n",
    "sklearn.metrics.silhouette_score(data,u)"
   ]
  },
  {
   "cell_type": "code",
   "execution_count": null,
   "metadata": {
    "collapsed": true
   },
   "outputs": [],
   "source": []
  }
 ],
 "metadata": {
  "kernelspec": {
   "display_name": "Python 3",
   "language": "python",
   "name": "python3"
  },
  "language_info": {
   "codemirror_mode": {
    "name": "ipython",
    "version": 3
   },
   "file_extension": ".py",
   "mimetype": "text/x-python",
   "name": "python",
   "nbconvert_exporter": "python",
   "pygments_lexer": "ipython3",
   "version": "3.4.4"
  }
 },
 "nbformat": 4,
 "nbformat_minor": 0
}
