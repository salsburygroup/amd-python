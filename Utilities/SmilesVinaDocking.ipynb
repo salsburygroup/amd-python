{
 "cells": [
  {
   "cell_type": "markdown",
   "metadata": {},
   "source": [
    "# Docking a set of smiles with AutoDock Vina\n",
    "\n",
    "Ryan L. Melvin\n",
    "\n",
    "23 May 2016"
   ]
  },
  {
   "cell_type": "markdown",
   "metadata": {},
   "source": [
    "Docking software allows for quick (compared to molecular dynamics docking simulation) estimates of complexes of a receptor and ligand (e.g., protein and drug-link compound). To  identify potential candidates for drug discovery, ligand libraries must be used. One such examples is ZINC[1-2] Once a library or subset thereof has been selected, docking software such AutoDock Vina[3] can provide a quick, efficient calculation of binding sites and affinities."
   ]
  },
  {
   "cell_type": "code",
   "execution_count": null,
   "metadata": {
    "collapsed": true
   },
   "outputs": [],
   "source": [
    "# Python modules needed:\n",
    "import subprocess\n",
    "from shutil import move\n",
    "import os\n",
    "import re"
   ]
  },
  {
   "cell_type": "markdown",
   "metadata": {},
   "source": [
    "First, select the library (or subset thereof) and provide it as a set of smiles strings"
   ]
  },
  {
   "cell_type": "code",
   "execution_count": null,
   "metadata": {
    "collapsed": true
   },
   "outputs": [],
   "source": [
    "# Assuming you have the library to be docked in smiles strings\n",
    "library = '23_t90.smi'"
   ]
  },
  {
   "cell_type": "markdown",
   "metadata": {},
   "source": [
    "You'll need a receptor. "
   ]
  },
  {
   "cell_type": "code",
   "execution_count": null,
   "metadata": {
    "collapsed": true
   },
   "outputs": [],
   "source": [
    "receptor = 'receptor.pdb'"
   ]
  },
  {
   "cell_type": "markdown",
   "metadata": {},
   "source": [
    "Let's count how many drug-like compounds are in the provided library"
   ]
  },
  {
   "cell_type": "code",
   "execution_count": null,
   "metadata": {
    "collapsed": false
   },
   "outputs": [],
   "source": [
    "with open(zinc_library, 'r+') as smiles_strings:\n",
    "    num_drugs = sum(1 for line in smiles_strings)"
   ]
  },
  {
   "cell_type": "markdown",
   "metadata": {},
   "source": [
    "Now, we need some software. Specify where babel is. "
   ]
  },
  {
   "cell_type": "code",
   "execution_count": 4,
   "metadata": {
    "collapsed": true
   },
   "outputs": [],
   "source": [
    "babel = 'path/to/babel'"
   ]
  },
  {
   "cell_type": "markdown",
   "metadata": {},
   "source": [
    "We also need the MGL tools for vina"
   ]
  },
  {
   "cell_type": "code",
   "execution_count": null,
   "metadata": {
    "collapsed": true
   },
   "outputs": [],
   "source": [
    "MGLToolsFolder = '/home/luy/MGLTools-1.5.4'\n",
    "ligand_prep_script = os.path.join(MGLToolsFolder,'MGLToolsPckgs','AutoDockTools','Utilities24','prepare_ligand4.py')\n",
    "receptor_prep_script = os.path.join(MGLToolsFolder,'MGLToolsPckgs','AutoDockTools','Utilities24','prepare_receptor4.py')"
   ]
  },
  {
   "cell_type": "markdown",
   "metadata": {},
   "source": [
    "Let's prepare the receptor"
   ]
  },
  {
   "cell_type": "code",
   "execution_count": null,
   "metadata": {
    "collapsed": true
   },
   "outputs": [],
   "source": [
    "receptor_resting_place = receptor + 'qt'\n",
    "receptor_prep_command = (\n",
    "            receptor_prep_script + ' -r '\n",
    "            + receprot + ' -o' + receptor_resting_place\n",
    "            )\n",
    "    subprocess.call(ligand_prep_command, shell=True)"
   ]
  },
  {
   "cell_type": "markdown",
   "metadata": {},
   "source": [
    "Now, we're going to have to do a bunch of once. The following script assumes you're using a distributed computer environment with slurm. I use a helper file that takes care of all the slurm details, whose code I provide at the end of this document. I'll also give an example smiles string at the end."
   ]
  },
  {
   "cell_type": "code",
   "execution_count": null,
   "metadata": {
    "collapsed": true
   },
   "outputs": [],
   "source": [
    "for drug_num in range(1, num_drugs + 1):\n",
    "    # Convert the smile string for drug i.\n",
    "    babel_command = (\n",
    "            babel +  ' -i ' + library + ' -O drug{0}.pdb -f {0} -l {0} --gend3d''.format(drug_num)\n",
    "            )\n",
    "    subprocess.call(babel_command, shell=True)\n",
    "    # We've made a pdb; let's grab its path.\n",
    "    pdb = 'drug{0}.pdb'.format(drug_num)\n",
    "    \n",
    "    # If you're using ZINC, you'll get a compound ID as part of the PDB. Let's get that.\n",
    "    with open(pdb,'r') as fobj:\n",
    "        text = fobj.read()\n",
    "    compound = re.findall('^COMPND\\s+(ZINC\\d+)', text)[0]\n",
    "    \n",
    "    # There are going to be a lot of drugs. Let's make a folder for each\n",
    "    cwd = os.getcwd()\n",
    "    compound_dir = os.path.join(cwd,compound)\n",
    "    if not os.path.exists(compound_dir):\n",
    "        os.makedirs(compound_dir)\n",
    "        \n",
    "    # Move the ith pdb there.\n",
    "    pdb_path = os.path.join(cwd, pdb)\n",
    "    pdb_resting_place = os.path.join(compound_dir, pdb)\n",
    "    move(pdb_path,pdb_resting_place)\n",
    "    \n",
    "    # Prepare the ith ligand\n",
    "    pdbqt_resting_place = pdb_resting_place + 'qt'\n",
    "    ligand_prep_command = (\n",
    "            ligand_prep_script + ' -l '\n",
    "            + pdb_resting_place + ' -o' + pdbqt_resting_place\n",
    "            )\n",
    "    subprocess.call(ligand_prep_command, shell=True)\n",
    "\n",
    "    dock_helper = os.path.join(cwd, 'docking_submit.slurm')\n",
    "    \n",
    "    # Run docking\n",
    "    submit_dock_command = (\n",
    "            'sbatch --export=x=' + receptor_resting_place + ',y=' + pdbqt_resting_place ' ' + dock_helper\n",
    "            )\n",
    "    docking_job = subprocess.Popen(submit_F10site_command, shell=True, cwd=compound_dir, stdout=subprocess.PIPE)\n",
    "    out, err = docking_job.communicate()\n",
    "    \n",
    "    # Let's record what compound goes with what job in case something goes wrong.\n",
    "    jobid = out.split(' ')[3]\n",
    "    with open('jobs.txt', 'a+') as log:\n",
    "        log.write(compound + '\\t' + jobid)\n"
   ]
  },
  {
   "cell_type": "markdown",
   "metadata": {},
   "source": [
    "## Citations\n",
    "[1] Irwin JJ, Shoichet BK (2005) ZINC - a free database of commercially available com- pounds for virtual screening. J Chem Inf Model 36:177–182. doi:10.1002/chin. 200516215\n",
    "\n",
    "[2] Irwin JJ, Sterling T, Mysinger MM et al (2012) ZINC: a free tool to discover chemis- try for biology. J Chem Inf Model 52:1757– 1768. doi:10.1021/ci3001277\n",
    "\n",
    "[3] Trott O, Olson AJ (2010) Software news and update AutoDock Vina: improving the speed and accuracy of docking with a new scoring function, efficient optimization, and multi- threading. J Comput Chem 31:455–461. doi:10.1002/jcc"
   ]
  },
  {
   "cell_type": "markdown",
   "metadata": {},
   "source": [
    "## Supplementary information\n",
    "Docking helper and smiles example"
   ]
  },
  {
   "cell_type": "markdown",
   "metadata": {},
   "source": [
    "### docking_submit.slurm\n",
    "```bash\n",
    "#!/bin/bash -l\n",
    "#SBATCH --partition=small\n",
    "#SBATCH --mail-type=END,FAIL\n",
    "#SBATCH --mail-user=email@wfu.edu\n",
    "#SBATCH --account=group\n",
    "#SBATCH --nodes=1\n",
    "#SBATCH --tasks-per-node=8\n",
    "#SBATCH --mem=16gb\n",
    "#SBATCH --time=0-03:00:00\n",
    "module load vina/1.1.2-intel-2012\n",
    "vina --receptor {x} --ligand ${y}  --center_x 33.6 --center_y -8.4  --center_z 22.6 --size_x 13 --size_y 10 --size_z 14 --log docking.log\n",
    "module unload vina/1.1.2-intel-2012\n",
    "exit\n",
    "```"
   ]
  },
  {
   "cell_type": "markdown",
   "metadata": {},
   "source": [
    "### Smiles example\n",
    "Cc1cc(no1)NC(=O)CCn2cnc3c(c2=O)cnn3C\tZINC54722086"
   ]
  }
 ],
 "metadata": {
  "kernelspec": {
   "display_name": "Python 2",
   "language": "python",
   "name": "python2"
  },
  "language_info": {
   "codemirror_mode": {
    "name": "ipython",
    "version": 2
   },
   "file_extension": ".py",
   "mimetype": "text/x-python",
   "name": "python",
   "nbconvert_exporter": "python",
   "pygments_lexer": "ipython2",
   "version": "2.7.11"
  }
 },
 "nbformat": 4,
 "nbformat_minor": 0
}
