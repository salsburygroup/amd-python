{
 "cells": [
  {
   "cell_type": "markdown",
   "metadata": {},
   "source": [
    "# Docking a set of smiles with AutoDock Vina\n",
    "\n",
    "Ryan L. Melvin\n",
    "\n",
    "23 May 2016\n",
    "Updated: October 7, 2016"
   ]
  },
  {
   "cell_type": "markdown",
   "metadata": {},
   "source": [
    "Docking software allows for quick (compared to molecular dynamics docking simulation) estimates of complexes of a receptor and ligand (e.g., protein and drug-link compound). To  identify potential candidates for drug discovery, ligand libraries must be used. One such examples is ZINC[1-2] Once a library or subset thereof has been selected, docking software such AutoDock Vina[3] can provide a quick, efficient calculation of binding sites and affinities."
   ]
  },
  {
   "cell_type": "code",
   "execution_count": null,
   "metadata": {
    "collapsed": true
   },
   "outputs": [],
   "source": [
    "# Python modules needed:\n",
    "import subprocess\n",
    "from shutil import move\n",
    "import os\n",
    "import re"
   ]
  },
  {
   "cell_type": "markdown",
   "metadata": {},
   "source": [
    "Who are you (on DEAC cluster) and how many simultaneous submissions are ok?"
   ]
  },
  {
   "cell_type": "code",
   "execution_count": null,
   "metadata": {
    "collapsed": true
   },
   "outputs": [],
   "source": [
    "deac_user = 'melvrl13'\n",
    "max_simultaneous_submissions = 500"
   ]
  },
  {
   "cell_type": "markdown",
   "metadata": {},
   "source": [
    "First, select the library (or subset thereof) and provide it as a set of smiles strings"
   ]
  },
  {
   "cell_type": "code",
   "execution_count": null,
   "metadata": {
    "collapsed": true
   },
   "outputs": [],
   "source": [
    "# Assuming you have the library to be docked in smiles strings\n",
    "library = '23_t90.smi'"
   ]
  },
  {
   "cell_type": "markdown",
   "metadata": {},
   "source": [
    "You'll need a receptor. "
   ]
  },
  {
   "cell_type": "code",
   "execution_count": null,
   "metadata": {
    "collapsed": true
   },
   "outputs": [],
   "source": [
    "receptor = 'receptor.pdb'"
   ]
  },
  {
   "cell_type": "markdown",
   "metadata": {},
   "source": [
    "Let's count how many drug-like compounds are in the provided library"
   ]
  },
  {
   "cell_type": "code",
   "execution_count": null,
   "metadata": {
    "collapsed": false
   },
   "outputs": [],
   "source": [
    "with open(library, 'r+') as smiles_strings:\n",
    "    num_drugs = sum(1 for line in smiles_strings)"
   ]
  },
  {
   "cell_type": "markdown",
   "metadata": {},
   "source": [
    "You'll need to adjust the docking helper script with your account info, the location of babel and MGLTools, and the appropriate awk command for what you want stored. I have an example script at the end of this notebook."
   ]
  },
  {
   "cell_type": "code",
   "execution_count": null,
   "metadata": {
    "collapsed": true
   },
   "outputs": [],
   "source": [
    "docking_helper = 'docking.slurm'"
   ]
  },
  {
   "cell_type": "markdown",
   "metadata": {},
   "source": [
    "Now, we're going to have to do a bunch of once. The following script assumes you're using a distributed computer environment with slurm. I use a helper file that takes care of all the slurm details, whose code I provide at the end of this document. I'll also give an example smiles string at the end."
   ]
  },
  {
   "cell_type": "code",
   "execution_count": null,
   "metadata": {
    "collapsed": true
   },
   "outputs": [],
   "source": [
    "squeue_command = 'squeue -u ' + deac_user\n",
    "cwd = os.getcwd()\n",
    "with open(zinc_library, 'r+') as smiles_strings:\n",
    "    smiles_text = smiles_strings.read()\n",
    "    drugs = re.findall('(ZINC\\d+)', smiles_text)\n",
    "for drug_num in range(1, num_drugs + 1):\n",
    "    squeue = subprocess.Popen(squeue_command, shell=True, stdout=subprocess.PIPE)\n",
    "    out, err = squeue.communicate()\n",
    "    out = out.splitlines()\n",
    "    count = sum (1 for line in out)\n",
    "    while count > max_simultaneous_submissions:\n",
    "        time.sleep(5)\n",
    "        squeue = subprocess.Popen(squeue_command, shell=True, stdout=subprocess.PIPE)\n",
    "        out, err = squeue.communicate()\n",
    "        out = out.splitlines()\n",
    "        count = sum (1 for line in out)\n",
    "    compound = drugs[drug_num - 1]\n",
    "    compound_dir = os.path.join(cwd, compound)\n",
    "    if not os.path.exists(compound_dir):\n",
    "        os.makedirs(compound_dir)\n",
    "    submit_docking_command = (\n",
    "            'sbatch --output=/dev/null --export=o=' +  compound + ',x=' + str(drug_num) + ',r=' + receptor + ',l=' ' + docking_helper\n",
    "            )\n",
    "    docking_job = subprocess.Popen(submit_docking_command, shell=True, cwd=compound_dir, stdout=subprocess.PIPE)"
   ]
  },
  {
   "cell_type": "markdown",
   "metadata": {},
   "source": [
    "# Analysis\n",
    "Now that you have the results, let's analyze them. You'll need to adjust paths to fit what you're doing. I put all of my enery results in a file using awk and then replaced the spaces with commas. Something like\n",
    "```bash\n",
    "for filename in *.dat; do\n",
    "awk '{if (NF==3) print $1,$2,FILENAME}' ${filename} >> energies_awk.txt\n",
    "done\n",
    "```"
   ]
  },
  {
   "cell_type": "code",
   "execution_count": null,
   "metadata": {
    "collapsed": true
   },
   "outputs": [],
   "source": [
    "import pandas as pd\n",
    "import matplotlib.pyplot as plt\n",
    "%matplotlib inline  "
   ]
  },
  {
   "cell_type": "markdown",
   "metadata": {},
   "source": [
    "I compressed my results using pandask pickle command so that they take up less space and can easily be read into python for future analysis."
   ]
  },
  {
   "cell_type": "code",
   "execution_count": null,
   "metadata": {
    "collapsed": true
   },
   "outputs": [],
   "source": [
    "df = pandas.read_csv('energies_csv.txt', index_col=False)\n",
    "df.to_pickle('result.pk')"
   ]
  },
  {
   "cell_type": "markdown",
   "metadata": {},
   "source": [
    "Thigs get even more specific here. I was comparing energies for two binding sites. What follows is intended as an example, not a programatic process for everyone to use every time. "
   ]
  },
  {
   "cell_type": "code",
   "execution_count": null,
   "metadata": {
    "collapsed": true
   },
   "outputs": [],
   "source": [
    "df = pd.read_pickle('result.pk') # load"
   ]
  },
  {
   "cell_type": "code",
   "execution_count": null,
   "metadata": {
    "collapsed": true
   },
   "outputs": [],
   "source": [
    "# Look at the 'F10' binding site\n",
    "df[df.site=='F10'].sort_values(by='energy').head() # top results"
   ]
  },
  {
   "cell_type": "code",
   "execution_count": null,
   "metadata": {
    "collapsed": true
   },
   "outputs": [],
   "source": [
    "df[df.site=='F10'].energy.hist() # histogram all results\n",
    "plt.title('F10 site')\n",
    "plt.xlabel('energy')\n",
    "plt.ylabel('count')"
   ]
  },
  {
   "cell_type": "code",
   "execution_count": null,
   "metadata": {
    "collapsed": true
   },
   "outputs": [],
   "source": [
    "# Look at the 'Acid' binding site\n",
    "df[df.site=='Acid'].sort_values(by='energy').head() # top results"
   ]
  },
  {
   "cell_type": "code",
   "execution_count": null,
   "metadata": {
    "collapsed": true
   },
   "outputs": [],
   "source": [
    "df[df.site=='Acid'].energy.hist() # histogram all results\n",
    "plt.title('Acid site')\n",
    "plt.xlabel('energy')\n",
    "plt.ylabel('count')"
   ]
  },
  {
   "cell_type": "code",
   "execution_count": null,
   "metadata": {
    "collapsed": true
   },
   "outputs": [],
   "source": [
    "# Comparison\n",
    "top = df[df.model==1]\n",
    "F = top[top.site=='F10']\n",
    "F = F.drop(['site', 'model'] , 1)\n",
    "A = top[top.site=='Acid']\n",
    "A = A.drop(['site', 'model'], 1)\n",
    "r = F.merge(A, on='drug', suffixes=('_F10', '_Acid'))\n",
    "r = r.set_index('drug')\n",
    "r.head()"
   ]
  },
  {
   "cell_type": "code",
   "execution_count": null,
   "metadata": {
    "collapsed": true
   },
   "outputs": [],
   "source": [
    "# Searching for a site that met a range of energies criteria\n",
    "F10_lim = -7.0 # Change this\n",
    "Acid_lim = -6.0 # And/or this\n",
    "r[(r.energy_F10 < F10_lim) & (r.energy_Acid > Acid_lim)]"
   ]
  },
  {
   "cell_type": "markdown",
   "metadata": {},
   "source": [
    "## Citations\n",
    "[1] Irwin JJ, Shoichet BK (2005) ZINC - a free database of commercially available com- pounds for virtual screening. J Chem Inf Model 36:177–182. doi:10.1002/chin. 200516215\n",
    "\n",
    "[2] Irwin JJ, Sterling T, Mysinger MM et al (2012) ZINC: a free tool to discover chemis- try for biology. J Chem Inf Model 52:1757– 1768. doi:10.1021/ci3001277\n",
    "\n",
    "[3] Trott O, Olson AJ (2010) Software news and update AutoDock Vina: improving the speed and accuracy of docking with a new scoring function, efficient optimization, and multi- threading. J Comput Chem 31:455–461. doi:10.1002/jcc"
   ]
  },
  {
   "cell_type": "markdown",
   "metadata": {},
   "source": [
    "### docking_submit.slurm\n",
    "```bash\n",
    "#!/bin/bash -l\n",
    "#SBATCH --partition=medium\n",
    "#SBATCH --account=salsburyGrp\n",
    "#SBATCH --nodes=1\n",
    "#SBATCH --mail-user=melvrl13@wfu.edu\n",
    "#SBATCH --tasks-per-node=8\n",
    "#SBATCH --mem=16gb\n",
    "#SBATCH --time=01:00:00\n",
    "\n",
    "module load vina/1.1.2-intel-2012\n",
    "\n",
    "/home/salsbufr/babel/bin/babel -ismi ${l} --gen3d -f ${x} -l ${x} -opdb zinc.pdb\n",
    "\n",
    "#/home/salsbufr/babel/bin/obminimize zinc${x}.pdb\n",
    "\n",
    "/home/luy/MGLTools-1.5.4/MGLToolsPckgs/AutoDockTools/Utilities24/prepare_ligand4.py -l zinc.pdb\n",
    "\n",
    "vina --receptor ${r} --exhaustiveness 99 --ligand zinc.pdbqt  --center_x 23.7 --center_y 3.6  --center_z -1.2 --size_x 20 --size_y 20 --size_z 20 --out out.pdbqt > out.log\n",
    "\n",
    "#If you're doing something comparative\n",
    "#vina --receptor ${r} --exhaustiveness 99 --ligand zinc.pdbqt  --center_x 33.6 --center_y -8.3 --center_z 22.6 --size_x 28 --size_y 28 --size_z 28 --out F10.pdbqt > F10.log\n",
    "\n",
    "# I wanted a certain range of energies. You should adjust the awk command for what you want and where you want it stored.\n",
    "awk '{if (NF==4 && $2<10.0) print $2,$1,FILENAME}' out.log > ../energies/out_${o}.dat\n",
    "\n",
    "#awk '{if (NF==4 && $2<10.0) print $2,$1,FILENAME}' F10.log > ../energies/F10_${o}.dat\n",
    "\n",
    "module unload vina/1.1.2-intel-2012\n",
    "\n",
    "rm -r ../${o}\n",
    "```"
   ]
  },
  {
   "cell_type": "markdown",
   "metadata": {},
   "source": [
    "### Smiles example\n",
    "Cc1cc(no1)NC(=O)CCn2cnc3c(c2=O)cnn3C\tZINC54722086"
   ]
  }
 ],
 "metadata": {
  "anaconda-cloud": {},
  "kernelspec": {
   "display_name": "Python [default]",
   "language": "python",
   "name": "python3"
  },
  "language_info": {
   "codemirror_mode": {
    "name": "ipython",
    "version": 3
   },
   "file_extension": ".py",
   "mimetype": "text/x-python",
   "name": "python",
   "nbconvert_exporter": "python",
   "pygments_lexer": "ipython3",
   "version": "3.5.2"
  }
 },
 "nbformat": 4,
 "nbformat_minor": 0
}
